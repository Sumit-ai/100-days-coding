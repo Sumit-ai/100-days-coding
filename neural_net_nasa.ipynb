{
  "nbformat": 4,
  "nbformat_minor": 0,
  "metadata": {
    "accelerator": "GPU",
    "colab": {
      "name": "neural net nasa ",
      "provenance": [],
      "authorship_tag": "ABX9TyOUKGNnatxp1CBh0D9khJL+",
      "include_colab_link": true
    },
    "kernelspec": {
      "display_name": "Python 3",
      "name": "python3"
    },
    "language_info": {
      "name": "python"
    }
  },
  "cells": [
    {
      "cell_type": "markdown",
      "metadata": {
        "id": "view-in-github",
        "colab_type": "text"
      },
      "source": [
        "<a href=\"https://colab.research.google.com/github/Sumit-ai/100-days-coding/blob/main/neural_net_nasa.ipynb\" target=\"_parent\"><img src=\"https://colab.research.google.com/assets/colab-badge.svg\" alt=\"Open In Colab\"/></a>"
      ]
    },
    {
      "cell_type": "markdown",
      "metadata": {
        "id": "qdrjk_cUG8Hu"
      },
      "source": [
        "# import file from drive \n"
      ]
    },
    {
      "cell_type": "code",
      "metadata": {
        "colab": {
          "base_uri": "https://localhost:8080/"
        },
        "id": "TItGFajrt2fM",
        "outputId": "ca6d96a3-96d3-4559-d921-0974a2e3bdd1"
      },
      "source": [
        "from google.colab import drive\n",
        "drive.mount('/content/drive')"
      ],
      "execution_count": 1,
      "outputs": [
        {
          "output_type": "stream",
          "text": [
            "Mounted at /content/drive\n"
          ],
          "name": "stdout"
        }
      ]
    },
    {
      "cell_type": "code",
      "metadata": {
        "id": "MOyQm1dohOe3"
      },
      "source": [
        "import glob\n",
        "import pandas as pd\n",
        "import numpy as np"
      ],
      "execution_count": 2,
      "outputs": []
    },
    {
      "cell_type": "code",
      "metadata": {
        "colab": {
          "base_uri": "https://localhost:8080/",
          "height": 243
        },
        "id": "lG6dE5xXhapx",
        "outputId": "56786503-034e-4a58-fba5-ea19f60fea7c"
      },
      "source": [
        "abalone_train = pd.read_csv('drive/MyDrive/Colab Notebooks/finalNasa_data (1).csv')\n",
        "abalone_train.head()"
      ],
      "execution_count": 3,
      "outputs": [
        {
          "output_type": "execute_result",
          "data": {
            "text/html": [
              "<div>\n",
              "<style scoped>\n",
              "    .dataframe tbody tr th:only-of-type {\n",
              "        vertical-align: middle;\n",
              "    }\n",
              "\n",
              "    .dataframe tbody tr th {\n",
              "        vertical-align: top;\n",
              "    }\n",
              "\n",
              "    .dataframe thead th {\n",
              "        text-align: right;\n",
              "    }\n",
              "</style>\n",
              "<table border=\"1\" class=\"dataframe\">\n",
              "  <thead>\n",
              "    <tr style=\"text-align: right;\">\n",
              "      <th></th>\n",
              "      <th>Unnamed: 0</th>\n",
              "      <th>RUL</th>\n",
              "      <th>alt</th>\n",
              "      <th>Mach</th>\n",
              "      <th>TRA</th>\n",
              "      <th>T2</th>\n",
              "      <th>unit</th>\n",
              "      <th>cycle</th>\n",
              "      <th>Fc</th>\n",
              "      <th>T24</th>\n",
              "      <th>T30</th>\n",
              "      <th>T48</th>\n",
              "      <th>T50</th>\n",
              "      <th>P15</th>\n",
              "      <th>P2</th>\n",
              "      <th>P21</th>\n",
              "      <th>P24</th>\n",
              "      <th>Ps30</th>\n",
              "      <th>P40</th>\n",
              "      <th>P50</th>\n",
              "      <th>Nf</th>\n",
              "      <th>Nc</th>\n",
              "      <th>Wf</th>\n",
              "    </tr>\n",
              "  </thead>\n",
              "  <tbody>\n",
              "    <tr>\n",
              "      <th>0</th>\n",
              "      <td>0</td>\n",
              "      <td>99</td>\n",
              "      <td>3013.0</td>\n",
              "      <td>0.376362</td>\n",
              "      <td>70.311996</td>\n",
              "      <td>522.314770</td>\n",
              "      <td>1.0</td>\n",
              "      <td>1.0</td>\n",
              "      <td>1.0</td>\n",
              "      <td>618.288596</td>\n",
              "      <td>1470.469798</td>\n",
              "      <td>1849.620676</td>\n",
              "      <td>1269.275585</td>\n",
              "      <td>19.432070</td>\n",
              "      <td>14.484611</td>\n",
              "      <td>19.727990</td>\n",
              "      <td>24.410990</td>\n",
              "      <td>394.701872</td>\n",
              "      <td>401.205188</td>\n",
              "      <td>15.974771</td>\n",
              "      <td>2142.253462</td>\n",
              "      <td>8693.176503</td>\n",
              "      <td>4.621622</td>\n",
              "    </tr>\n",
              "    <tr>\n",
              "      <th>1</th>\n",
              "      <td>1</td>\n",
              "      <td>99</td>\n",
              "      <td>3020.0</td>\n",
              "      <td>0.376866</td>\n",
              "      <td>70.311996</td>\n",
              "      <td>522.327145</td>\n",
              "      <td>1.0</td>\n",
              "      <td>1.0</td>\n",
              "      <td>1.0</td>\n",
              "      <td>618.296355</td>\n",
              "      <td>1470.415593</td>\n",
              "      <td>1849.519871</td>\n",
              "      <td>1269.177159</td>\n",
              "      <td>19.431385</td>\n",
              "      <td>14.484683</td>\n",
              "      <td>19.727295</td>\n",
              "      <td>24.410483</td>\n",
              "      <td>394.629899</td>\n",
              "      <td>401.132851</td>\n",
              "      <td>15.970518</td>\n",
              "      <td>2142.218596</td>\n",
              "      <td>8693.000298</td>\n",
              "      <td>4.620561</td>\n",
              "    </tr>\n",
              "    <tr>\n",
              "      <th>2</th>\n",
              "      <td>2</td>\n",
              "      <td>99</td>\n",
              "      <td>3025.0</td>\n",
              "      <td>0.377685</td>\n",
              "      <td>70.311996</td>\n",
              "      <td>522.371840</td>\n",
              "      <td>1.0</td>\n",
              "      <td>1.0</td>\n",
              "      <td>1.0</td>\n",
              "      <td>618.336514</td>\n",
              "      <td>1470.453853</td>\n",
              "      <td>1849.566139</td>\n",
              "      <td>1269.167353</td>\n",
              "      <td>19.435163</td>\n",
              "      <td>14.488224</td>\n",
              "      <td>19.731130</td>\n",
              "      <td>24.415476</td>\n",
              "      <td>394.667850</td>\n",
              "      <td>401.171401</td>\n",
              "      <td>15.969419</td>\n",
              "      <td>2142.257956</td>\n",
              "      <td>8693.106262</td>\n",
              "      <td>4.621064</td>\n",
              "    </tr>\n",
              "    <tr>\n",
              "      <th>3</th>\n",
              "      <td>3</td>\n",
              "      <td>99</td>\n",
              "      <td>3035.0</td>\n",
              "      <td>0.376992</td>\n",
              "      <td>70.399887</td>\n",
              "      <td>522.282418</td>\n",
              "      <td>1.0</td>\n",
              "      <td>1.0</td>\n",
              "      <td>1.0</td>\n",
              "      <td>618.302173</td>\n",
              "      <td>1470.650929</td>\n",
              "      <td>1850.195069</td>\n",
              "      <td>1269.518670</td>\n",
              "      <td>19.426003</td>\n",
              "      <td>14.477632</td>\n",
              "      <td>19.721830</td>\n",
              "      <td>24.406544</td>\n",
              "      <td>394.773533</td>\n",
              "      <td>401.272707</td>\n",
              "      <td>15.967762</td>\n",
              "      <td>2142.794673</td>\n",
              "      <td>8693.680367</td>\n",
              "      <td>4.624305</td>\n",
              "    </tr>\n",
              "    <tr>\n",
              "      <th>4</th>\n",
              "      <td>4</td>\n",
              "      <td>99</td>\n",
              "      <td>3043.0</td>\n",
              "      <td>0.377622</td>\n",
              "      <td>70.399887</td>\n",
              "      <td>522.300605</td>\n",
              "      <td>1.0</td>\n",
              "      <td>1.0</td>\n",
              "      <td>1.0</td>\n",
              "      <td>618.345228</td>\n",
              "      <td>1470.640421</td>\n",
              "      <td>1849.950988</td>\n",
              "      <td>1269.253972</td>\n",
              "      <td>19.427484</td>\n",
              "      <td>14.478114</td>\n",
              "      <td>19.723334</td>\n",
              "      <td>24.410159</td>\n",
              "      <td>394.732158</td>\n",
              "      <td>401.234620</td>\n",
              "      <td>15.962571</td>\n",
              "      <td>2143.015150</td>\n",
              "      <td>8693.714825</td>\n",
              "      <td>4.622768</td>\n",
              "    </tr>\n",
              "  </tbody>\n",
              "</table>\n",
              "</div>"
            ],
            "text/plain": [
              "   Unnamed: 0  RUL     alt  ...           Nf           Nc        Wf\n",
              "0           0   99  3013.0  ...  2142.253462  8693.176503  4.621622\n",
              "1           1   99  3020.0  ...  2142.218596  8693.000298  4.620561\n",
              "2           2   99  3025.0  ...  2142.257956  8693.106262  4.621064\n",
              "3           3   99  3035.0  ...  2142.794673  8693.680367  4.624305\n",
              "4           4   99  3043.0  ...  2143.015150  8693.714825  4.622768\n",
              "\n",
              "[5 rows x 23 columns]"
            ]
          },
          "metadata": {
            "tags": []
          },
          "execution_count": 3
        }
      ]
    },
    {
      "cell_type": "markdown",
      "metadata": {
        "id": "9j1utzVCHHZY"
      },
      "source": [
        "# label and features\n"
      ]
    },
    {
      "cell_type": "code",
      "metadata": {
        "id": "THOCuss1h47c"
      },
      "source": [
        "abalone_features = abalone_train.copy()\n",
        "abalone_labels = abalone_features.pop('RUL')"
      ],
      "execution_count": 4,
      "outputs": []
    },
    {
      "cell_type": "code",
      "metadata": {
        "colab": {
          "base_uri": "https://localhost:8080/",
          "height": 442
        },
        "id": "snXwxdW7iLnM",
        "outputId": "01d118d8-5688-46c3-9afc-73e0ea46def8"
      },
      "source": [
        "abalone_features = abalone_features.iloc[:, 1:]\n",
        "abalone_features"
      ],
      "execution_count": 5,
      "outputs": [
        {
          "output_type": "execute_result",
          "data": {
            "text/html": [
              "<div>\n",
              "<style scoped>\n",
              "    .dataframe tbody tr th:only-of-type {\n",
              "        vertical-align: middle;\n",
              "    }\n",
              "\n",
              "    .dataframe tbody tr th {\n",
              "        vertical-align: top;\n",
              "    }\n",
              "\n",
              "    .dataframe thead th {\n",
              "        text-align: right;\n",
              "    }\n",
              "</style>\n",
              "<table border=\"1\" class=\"dataframe\">\n",
              "  <thead>\n",
              "    <tr style=\"text-align: right;\">\n",
              "      <th></th>\n",
              "      <th>alt</th>\n",
              "      <th>Mach</th>\n",
              "      <th>TRA</th>\n",
              "      <th>T2</th>\n",
              "      <th>unit</th>\n",
              "      <th>cycle</th>\n",
              "      <th>Fc</th>\n",
              "      <th>T24</th>\n",
              "      <th>T30</th>\n",
              "      <th>T48</th>\n",
              "      <th>T50</th>\n",
              "      <th>P15</th>\n",
              "      <th>P2</th>\n",
              "      <th>P21</th>\n",
              "      <th>P24</th>\n",
              "      <th>Ps30</th>\n",
              "      <th>P40</th>\n",
              "      <th>P50</th>\n",
              "      <th>Nf</th>\n",
              "      <th>Nc</th>\n",
              "      <th>Wf</th>\n",
              "    </tr>\n",
              "  </thead>\n",
              "  <tbody>\n",
              "    <tr>\n",
              "      <th>0</th>\n",
              "      <td>3013.0</td>\n",
              "      <td>0.376362</td>\n",
              "      <td>70.311996</td>\n",
              "      <td>522.314770</td>\n",
              "      <td>1.0</td>\n",
              "      <td>1.0</td>\n",
              "      <td>1.0</td>\n",
              "      <td>618.288596</td>\n",
              "      <td>1470.469798</td>\n",
              "      <td>1849.620676</td>\n",
              "      <td>1269.275585</td>\n",
              "      <td>19.432070</td>\n",
              "      <td>14.484611</td>\n",
              "      <td>19.727990</td>\n",
              "      <td>24.410990</td>\n",
              "      <td>394.701872</td>\n",
              "      <td>401.205188</td>\n",
              "      <td>15.974771</td>\n",
              "      <td>2142.253462</td>\n",
              "      <td>8693.176503</td>\n",
              "      <td>4.621622</td>\n",
              "    </tr>\n",
              "    <tr>\n",
              "      <th>1</th>\n",
              "      <td>3020.0</td>\n",
              "      <td>0.376866</td>\n",
              "      <td>70.311996</td>\n",
              "      <td>522.327145</td>\n",
              "      <td>1.0</td>\n",
              "      <td>1.0</td>\n",
              "      <td>1.0</td>\n",
              "      <td>618.296355</td>\n",
              "      <td>1470.415593</td>\n",
              "      <td>1849.519871</td>\n",
              "      <td>1269.177159</td>\n",
              "      <td>19.431385</td>\n",
              "      <td>14.484683</td>\n",
              "      <td>19.727295</td>\n",
              "      <td>24.410483</td>\n",
              "      <td>394.629899</td>\n",
              "      <td>401.132851</td>\n",
              "      <td>15.970518</td>\n",
              "      <td>2142.218596</td>\n",
              "      <td>8693.000298</td>\n",
              "      <td>4.620561</td>\n",
              "    </tr>\n",
              "    <tr>\n",
              "      <th>2</th>\n",
              "      <td>3025.0</td>\n",
              "      <td>0.377685</td>\n",
              "      <td>70.311996</td>\n",
              "      <td>522.371840</td>\n",
              "      <td>1.0</td>\n",
              "      <td>1.0</td>\n",
              "      <td>1.0</td>\n",
              "      <td>618.336514</td>\n",
              "      <td>1470.453853</td>\n",
              "      <td>1849.566139</td>\n",
              "      <td>1269.167353</td>\n",
              "      <td>19.435163</td>\n",
              "      <td>14.488224</td>\n",
              "      <td>19.731130</td>\n",
              "      <td>24.415476</td>\n",
              "      <td>394.667850</td>\n",
              "      <td>401.171401</td>\n",
              "      <td>15.969419</td>\n",
              "      <td>2142.257956</td>\n",
              "      <td>8693.106262</td>\n",
              "      <td>4.621064</td>\n",
              "    </tr>\n",
              "    <tr>\n",
              "      <th>3</th>\n",
              "      <td>3035.0</td>\n",
              "      <td>0.376992</td>\n",
              "      <td>70.399887</td>\n",
              "      <td>522.282418</td>\n",
              "      <td>1.0</td>\n",
              "      <td>1.0</td>\n",
              "      <td>1.0</td>\n",
              "      <td>618.302173</td>\n",
              "      <td>1470.650929</td>\n",
              "      <td>1850.195069</td>\n",
              "      <td>1269.518670</td>\n",
              "      <td>19.426003</td>\n",
              "      <td>14.477632</td>\n",
              "      <td>19.721830</td>\n",
              "      <td>24.406544</td>\n",
              "      <td>394.773533</td>\n",
              "      <td>401.272707</td>\n",
              "      <td>15.967762</td>\n",
              "      <td>2142.794673</td>\n",
              "      <td>8693.680367</td>\n",
              "      <td>4.624305</td>\n",
              "    </tr>\n",
              "    <tr>\n",
              "      <th>4</th>\n",
              "      <td>3043.0</td>\n",
              "      <td>0.377622</td>\n",
              "      <td>70.399887</td>\n",
              "      <td>522.300605</td>\n",
              "      <td>1.0</td>\n",
              "      <td>1.0</td>\n",
              "      <td>1.0</td>\n",
              "      <td>618.345228</td>\n",
              "      <td>1470.640421</td>\n",
              "      <td>1849.950988</td>\n",
              "      <td>1269.253972</td>\n",
              "      <td>19.427484</td>\n",
              "      <td>14.478114</td>\n",
              "      <td>19.723334</td>\n",
              "      <td>24.410159</td>\n",
              "      <td>394.732158</td>\n",
              "      <td>401.234620</td>\n",
              "      <td>15.962571</td>\n",
              "      <td>2143.015150</td>\n",
              "      <td>8693.714825</td>\n",
              "      <td>4.622768</td>\n",
              "    </tr>\n",
              "    <tr>\n",
              "      <th>...</th>\n",
              "      <td>...</td>\n",
              "      <td>...</td>\n",
              "      <td>...</td>\n",
              "      <td>...</td>\n",
              "      <td>...</td>\n",
              "      <td>...</td>\n",
              "      <td>...</td>\n",
              "      <td>...</td>\n",
              "      <td>...</td>\n",
              "      <td>...</td>\n",
              "      <td>...</td>\n",
              "      <td>...</td>\n",
              "      <td>...</td>\n",
              "      <td>...</td>\n",
              "      <td>...</td>\n",
              "      <td>...</td>\n",
              "      <td>...</td>\n",
              "      <td>...</td>\n",
              "      <td>...</td>\n",
              "      <td>...</td>\n",
              "      <td>...</td>\n",
              "    </tr>\n",
              "    <tr>\n",
              "      <th>7641863</th>\n",
              "      <td>3018.0</td>\n",
              "      <td>0.310653</td>\n",
              "      <td>26.367001</td>\n",
              "      <td>517.710478</td>\n",
              "      <td>10.0</td>\n",
              "      <td>82.0</td>\n",
              "      <td>3.0</td>\n",
              "      <td>569.171314</td>\n",
              "      <td>1262.152711</td>\n",
              "      <td>1505.220656</td>\n",
              "      <td>1142.358688</td>\n",
              "      <td>16.327415</td>\n",
              "      <td>14.032529</td>\n",
              "      <td>16.576056</td>\n",
              "      <td>18.692318</td>\n",
              "      <td>225.954240</td>\n",
              "      <td>230.620941</td>\n",
              "      <td>14.255220</td>\n",
              "      <td>1596.571022</td>\n",
              "      <td>7985.475267</td>\n",
              "      <td>2.174156</td>\n",
              "    </tr>\n",
              "    <tr>\n",
              "      <th>7641864</th>\n",
              "      <td>3014.0</td>\n",
              "      <td>0.309960</td>\n",
              "      <td>26.367001</td>\n",
              "      <td>517.681857</td>\n",
              "      <td>10.0</td>\n",
              "      <td>82.0</td>\n",
              "      <td>3.0</td>\n",
              "      <td>569.152102</td>\n",
              "      <td>1262.138240</td>\n",
              "      <td>1505.152347</td>\n",
              "      <td>1142.334251</td>\n",
              "      <td>16.325787</td>\n",
              "      <td>14.030423</td>\n",
              "      <td>16.574404</td>\n",
              "      <td>18.690493</td>\n",
              "      <td>225.950147</td>\n",
              "      <td>230.617148</td>\n",
              "      <td>14.256880</td>\n",
              "      <td>1596.577489</td>\n",
              "      <td>7985.456042</td>\n",
              "      <td>2.173944</td>\n",
              "    </tr>\n",
              "    <tr>\n",
              "      <th>7641865</th>\n",
              "      <td>3010.0</td>\n",
              "      <td>0.310149</td>\n",
              "      <td>26.367001</td>\n",
              "      <td>517.707243</td>\n",
              "      <td>10.0</td>\n",
              "      <td>82.0</td>\n",
              "      <td>3.0</td>\n",
              "      <td>569.173286</td>\n",
              "      <td>1262.180290</td>\n",
              "      <td>1505.292305</td>\n",
              "      <td>1142.446055</td>\n",
              "      <td>16.329035</td>\n",
              "      <td>14.033521</td>\n",
              "      <td>16.577700</td>\n",
              "      <td>18.693991</td>\n",
              "      <td>225.991428</td>\n",
              "      <td>230.658479</td>\n",
              "      <td>14.259194</td>\n",
              "      <td>1596.552581</td>\n",
              "      <td>7985.560636</td>\n",
              "      <td>2.174648</td>\n",
              "    </tr>\n",
              "    <tr>\n",
              "      <th>7641866</th>\n",
              "      <td>3005.0</td>\n",
              "      <td>0.309834</td>\n",
              "      <td>26.367001</td>\n",
              "      <td>517.706106</td>\n",
              "      <td>10.0</td>\n",
              "      <td>82.0</td>\n",
              "      <td>3.0</td>\n",
              "      <td>569.178315</td>\n",
              "      <td>1262.202029</td>\n",
              "      <td>1505.274693</td>\n",
              "      <td>1142.442261</td>\n",
              "      <td>16.330290</td>\n",
              "      <td>14.034248</td>\n",
              "      <td>16.578975</td>\n",
              "      <td>18.695488</td>\n",
              "      <td>226.017333</td>\n",
              "      <td>230.685275</td>\n",
              "      <td>14.261579</td>\n",
              "      <td>1596.586737</td>\n",
              "      <td>7985.651661</td>\n",
              "      <td>2.174786</td>\n",
              "    </tr>\n",
              "    <tr>\n",
              "      <th>7641867</th>\n",
              "      <td>3002.0</td>\n",
              "      <td>0.310023</td>\n",
              "      <td>26.367001</td>\n",
              "      <td>517.728734</td>\n",
              "      <td>10.0</td>\n",
              "      <td>82.0</td>\n",
              "      <td>3.0</td>\n",
              "      <td>569.199431</td>\n",
              "      <td>1262.244357</td>\n",
              "      <td>1505.361442</td>\n",
              "      <td>1142.502733</td>\n",
              "      <td>16.333212</td>\n",
              "      <td>14.036950</td>\n",
              "      <td>16.581941</td>\n",
              "      <td>18.698775</td>\n",
              "      <td>226.056068</td>\n",
              "      <td>230.724518</td>\n",
              "      <td>14.263427</td>\n",
              "      <td>1596.601455</td>\n",
              "      <td>7985.778079</td>\n",
              "      <td>2.175310</td>\n",
              "    </tr>\n",
              "  </tbody>\n",
              "</table>\n",
              "<p>7641868 rows × 21 columns</p>\n",
              "</div>"
            ],
            "text/plain": [
              "            alt      Mach        TRA  ...           Nf           Nc        Wf\n",
              "0        3013.0  0.376362  70.311996  ...  2142.253462  8693.176503  4.621622\n",
              "1        3020.0  0.376866  70.311996  ...  2142.218596  8693.000298  4.620561\n",
              "2        3025.0  0.377685  70.311996  ...  2142.257956  8693.106262  4.621064\n",
              "3        3035.0  0.376992  70.399887  ...  2142.794673  8693.680367  4.624305\n",
              "4        3043.0  0.377622  70.399887  ...  2143.015150  8693.714825  4.622768\n",
              "...         ...       ...        ...  ...          ...          ...       ...\n",
              "7641863  3018.0  0.310653  26.367001  ...  1596.571022  7985.475267  2.174156\n",
              "7641864  3014.0  0.309960  26.367001  ...  1596.577489  7985.456042  2.173944\n",
              "7641865  3010.0  0.310149  26.367001  ...  1596.552581  7985.560636  2.174648\n",
              "7641866  3005.0  0.309834  26.367001  ...  1596.586737  7985.651661  2.174786\n",
              "7641867  3002.0  0.310023  26.367001  ...  1596.601455  7985.778079  2.175310\n",
              "\n",
              "[7641868 rows x 21 columns]"
            ]
          },
          "metadata": {
            "tags": []
          },
          "execution_count": 5
        }
      ]
    },
    {
      "cell_type": "markdown",
      "metadata": {
        "id": "bGbNHXv_HQvR"
      },
      "source": [
        "# Spilit the data "
      ]
    },
    {
      "cell_type": "code",
      "metadata": {
        "id": "IwTLLdPniNUn"
      },
      "source": [
        "from sklearn.model_selection import train_test_split\n",
        "X_train, X_test, y_train, y_test = train_test_split(abalone_features, abalone_labels, test_size=0.2,shuffle=False)"
      ],
      "execution_count": 6,
      "outputs": []
    },
    {
      "cell_type": "code",
      "metadata": {
        "id": "9nPf1TNiiPHW"
      },
      "source": [
        "import matplotlib.pyplot as plt "
      ],
      "execution_count": null,
      "outputs": []
    },
    {
      "cell_type": "code",
      "metadata": {
        "id": "-7sjShJEiQtW"
      },
      "source": [
        "X_train = np.array(X_train)\n",
        "\n",
        "X_train.shape"
      ],
      "execution_count": null,
      "outputs": []
    },
    {
      "cell_type": "markdown",
      "metadata": {
        "id": "MJxN1GmVHYYt"
      },
      "source": [
        "# model "
      ]
    },
    {
      "cell_type": "code",
      "metadata": {
        "id": "B0Fv0pSwiSMw"
      },
      "source": [
        "import tensorflow as tf\n",
        "from tensorflow.keras.layers import Dense, Activation, Dropout "
      ],
      "execution_count": null,
      "outputs": []
    },
    {
      "cell_type": "code",
      "metadata": {
        "colab": {
          "background_save": true,
          "base_uri": "https://localhost:8080/",
          "height": 409
        },
        "id": "QTWP7mfEiW7u",
        "outputId": "924c08b8-66a3-49bb-bb0c-a9531b2d3c4b"
      },
      "source": [
        "model = tf.keras.Sequential()\n",
        "model.add(Dense(1024))\n",
        "model.add(Activation('relu'))\n",
        "#model.add(Dropout(0.1))\n",
        "\n",
        "model.add(Dense(512))\n",
        "model.add(Activation('relu'))\n",
        "#model.add(Dropout(0.1))\n",
        "\n",
        "model.add(Dense(256))\n",
        "model.add(Activation('relu'))\n",
        "#model.add(Dropout(0.1))\n",
        "\n",
        "model.add(Dense(128))\n",
        "model.add(Activation('relu'))\n",
        "\n",
        "model.add(Dense(1))\n",
        "#rms = RMSprop()\n",
        "#model.compile(loss='categorical_crossentropy', optimizer=rms, metrics=['accuracy'])\n",
        "model.compile(loss='mean_absolute_error', optimizer= tf.optimizers.Adam())\n",
        "model.fit(X_train, y_train, batch_size=32, epochs=3, verbose=1, validation_data=(X_test, y_test) )"
      ],
      "execution_count": null,
      "outputs": [
        {
          "output_type": "stream",
          "text": [
            "Epoch 1/3\n",
            "191047/191047 [==============================] - 466s 2ms/step - loss: 6.3311 - val_loss: 9.4076\n",
            "Epoch 2/3\n",
            "191047/191047 [==============================] - 500s 3ms/step - loss: 5.4453 - val_loss: 7.1998\n",
            "Epoch 3/3\n",
            "191047/191047 [==============================] - 462s 2ms/step - loss: 5.3087 - val_loss: 4.7084\n"
          ],
          "name": "stdout"
        },
        {
          "output_type": "execute_result",
          "data": {
            "text/plain": [
              "<tensorflow.python.keras.callbacks.History at 0x7f548410ddd0>"
            ]
          },
          "metadata": {
            "tags": []
          },
          "execution_count": 0
        }
      ]
    },
    {
      "cell_type": "markdown",
      "metadata": {
        "id": "rPc_q8dlHciN"
      },
      "source": [
        "# Results "
      ]
    },
    {
      "cell_type": "markdown",
      "metadata": {
        "id": "lPCU1LRnG69p"
      },
      "source": [
        ""
      ]
    },
    {
      "cell_type": "code",
      "metadata": {
        "colab": {
          "background_save": true,
          "base_uri": "https://localhost:8080/",
          "height": 341
        },
        "id": "Lzn4ZAaNiZXX",
        "outputId": "a8c569fb-1c7d-44d8-e8ea-3fd9fcdebaaf"
      },
      "source": [
        "y_pred_test = model.predict(np.array(X_test))\n",
        "plt.plot(y_pred_test, 'o')\n",
        "plt.plot(y_test.values, 'o')"
      ],
      "execution_count": null,
      "outputs": [
        {
          "output_type": "execute_result",
          "data": {
            "text/plain": [
              "[<matplotlib.lines.Line2D at 0x7f5484120e90>]"
            ]
          },
          "metadata": {
            "tags": []
          },
          "execution_count": 0
        },
        {
          "output_type": "display_data",
          "data": {
            "image/png": "[encoded data removed]",
            "text/plain": [
              "<Figure size 432x288 with 1 Axes>"
            ]
          },
          "metadata": {
            "tags": []
          }
        }
      ]
    },
    {
      "cell_type": "code",
      "metadata": {
        "colab": {
          "background_save": true
        },
        "id": "hMBfT1I-ip3Z",
        "outputId": "ca4f6962-0574-4015-824f-736f34bf63da"
      },
      "source": [
        "y_pred_test = model.predict(np.array(X_train))\n",
        "plt.plot(y_pred_test, 'o')\n",
        "plt.plot(y_train.values, 'o')"
      ],
      "execution_count": null,
      "outputs": [
        {
          "output_type": "execute_result",
          "data": {
            "text/plain": [
              "[<matplotlib.lines.Line2D at 0x7f5471e68d90>]"
            ]
          },
          "metadata": {
            "tags": []
          },
          "execution_count": 0
        },
        {
          "output_type": "display_data",
          "data": {
            "image/png": "[encoded data removed]",
            "text/plain": [
              "<Figure size 432x288 with 1 Axes>"
            ]
          },
          "metadata": {
            "tags": []
          }
        }
      ]
    },
    {
      "cell_type": "code",
      "metadata": {
        "colab": {
          "background_save": true
        },
        "id": "VtKnHgMsirTV"
      },
      "source": [
        "model.save('model1.h5')"
      ],
      "execution_count": null,
      "outputs": []
    },
    {
      "cell_type": "code",
      "metadata": {
        "id": "yijaUVOIisuV"
      },
      "source": [
        "model.evaluate(X_test, y_test)"
      ],
      "execution_count": null,
      "outputs": []
    },
    {
      "cell_type": "code",
      "metadata": {
        "id": "ipaNeugvAsZI"
      },
      "source": [
        "model.evaluate(X_train, y_train)"
      ],
      "execution_count": null,
      "outputs": []
    },
    {
      "cell_type": "code",
      "metadata": {
        "id": "xPsD7gdiw-qe"
      },
      "source": [
        ""
      ],
      "execution_count": null,
      "outputs": []
    }
  ]
}